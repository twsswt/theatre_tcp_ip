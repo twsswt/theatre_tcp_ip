{
 "cells": [
  {
   "cell_type": "markdown",
   "metadata": {
    "collapsed": true,
    "deletable": true,
    "editable": true
   },
   "source": [
    "# Tutorial\n",
    "\n",
    "A single simulation run in Theatre_Ag is called an episode.  An episode needs a cast of actors and some directions, all synchronized on a clock.  This tutorial describes the steps for creating an episode.\n",
    "\n",
    "All features of Theatre are accessible from the top level package."
   ]
  },
  {
   "cell_type": "code",
   "execution_count": 2,
   "metadata": {
    "collapsed": false,
    "deletable": true,
    "editable": true
   },
   "outputs": [],
   "source": [
    "from theatre_ag import Cast, Episode, SynchronizingClock, TaskQueueActor, default_cost"
   ]
  },
  {
   "cell_type": "markdown",
   "metadata": {
    "deletable": true,
    "editable": true
   },
   "source": [
    "## Creating a Simulation Clock"
   ]
  },
  {
   "cell_type": "code",
   "execution_count": 3,
   "metadata": {
    "collapsed": true,
    "deletable": true,
    "editable": true
   },
   "outputs": [],
   "source": [
    "clock = SynchronizingClock(max_ticks=5)"
   ]
  },
  {
   "cell_type": "markdown",
   "metadata": {
    "deletable": true,
    "editable": true
   },
   "source": [
    "## Implementing the Cast\n",
    "\n",
    "The abstract Actor class is responsible for executing tasks, synchronized on the Scenario clock.  However, it doesn't\n",
    "have a mechanism for deciding how to schedule tasks, as this is left for implementation in the problem domain.  A simple\n",
    "task queue oriented actor is provided with Theatre_Ag:"
   ]
  },
  {
   "cell_type": "code",
   "execution_count": 4,
   "metadata": {
    "collapsed": true,
    "deletable": true,
    "editable": true
   },
   "outputs": [],
   "source": [
    "cast = Cast()\n",
    "actor = TaskQueueActor('alice', clock)\n",
    "cast.add_member(actor)"
   ]
  },
  {
   "cell_type": "markdown",
   "metadata": {
    "deletable": true,
    "editable": true
   },
   "source": [
    "## Directing the Cast with Workflows\n",
    "\n",
    "A workflow is represented as a plain old Python class, comprising attributes (which can be used to store references to\n",
    "state in the simulation domain) and methods for manipulating the state.  For example, a class to represent the possible\n",
    "states of the cleanliness of your hands can be given as:"
   ]
  },
  {
   "cell_type": "code",
   "execution_count": 5,
   "metadata": {
    "collapsed": true,
    "deletable": true,
    "editable": true
   },
   "outputs": [],
   "source": [
    "class Hands(object):\n",
    "    def __init__(self):\n",
    "        self.clean = False\n",
    "        self.soaped = False"
   ]
  },
  {
   "cell_type": "markdown",
   "metadata": {
    "deletable": true,
    "editable": true
   },
   "source": [
    "The workflow for washing your hands (or anything else that can be washed) is defined as a plain old Python class, with\n",
    "individual tasks represented as instance methods."
   ]
  },
  {
   "cell_type": "code",
   "execution_count": 7,
   "metadata": {
    "collapsed": false,
    "deletable": true,
    "editable": true
   },
   "outputs": [],
   "source": [
    "class WashWorkflow(object):\n",
    "\n",
    "    is_workflow = True\n",
    "\n",
    "    def __init__(self, washable):\n",
    "        self.washable = washable\n",
    "\n",
    "    @default_cost(1)\n",
    "    def add_soap(self):\n",
    "        self.washable.soaped = True\n",
    "\n",
    "    @default_cost(1)\n",
    "    def rinse(self):\n",
    "        self.washable.soaped = False\n",
    "\n",
    "    @default_cost(1)\n",
    "    def scrub(self):\n",
    "        if self.washable.soaped:\n",
    "            self.washable.clean = True\n",
    "\n",
    "    def wash(self):\n",
    "        self.add_soap()\n",
    "        self.scrub()\n",
    "        self.rinse()"
   ]
  },
  {
   "cell_type": "markdown",
   "metadata": {
    "deletable": true,
    "editable": true
   },
   "source": [
    "Task methods can contain the full range of Python control structures, including while and for loops, if-elif-else blocks\n",
    "and <code>try-catch-finally</code> blocks.  Task methods can also freely invoke other task methods, and can pass\n",
    "arguments and accept return values as desired.\n",
    "\n",
    "Notice that tasks can be annotated with an indicative <code>default_cost</code>.  These annotations tell Theatre_Ag how\n",
    "many clock ticks must be issued before the task is executed.  Generally, it is recommended to annotate methods with\n",
    "their 'fixed' costs.  If a method contains a loop then it is better to encapsulate any activity in the loop that can\n",
    "incur cost in a separate sub-task.\n",
    "\n",
    "An instance of this workflow can be directly allocated to a TaskQueueActor.  The actor's <code>allocate_task</code>\n",
    "method accepts a workflow entry point (a reference to a workflow instance method)."
   ]
  },
  {
   "cell_type": "code",
   "execution_count": 8,
   "metadata": {
    "collapsed": false,
    "deletable": true,
    "editable": true
   },
   "outputs": [
    {
     "data": {
      "text/plain": [
       "wash()[?->?]"
      ]
     },
     "execution_count": 8,
     "metadata": {},
     "output_type": "execute_result"
    }
   ],
   "source": [
    "hands = Hands()\n",
    "wash_workflow = WashWorkflow(hands)\n",
    "actor.allocate_task(wash_workflow.wash)"
   ]
  },
  {
   "cell_type": "markdown",
   "metadata": {
    "deletable": true,
    "editable": true
   },
   "source": [
    "However, if you are dealing with an episode involving a large number of actors, it may be more convenient to specify\n",
    "directions to a cast for the episode:"
   ]
  },
  {
   "cell_type": "code",
   "execution_count": 9,
   "metadata": {
    "collapsed": true,
    "deletable": true,
    "editable": true
   },
   "outputs": [],
   "source": [
    "class WashHandsDirection(object):\n",
    "\n",
    "    def apply(self, cast):\n",
    "        hands = Hands()\n",
    "        wash_workflow = WashWorkflow(hands)\n",
    "        cast[0].allocate_task(wash_workflow.wash)"
   ]
  },
  {
   "cell_type": "markdown",
   "metadata": {
    "deletable": true,
    "editable": true
   },
   "source": [
    "Workflows can be hierarchical, so it is possible to define (in the <code>__init__</code> method) sub workflows that can\n",
    "be invoked from the parent.  For example, suppose we decide that rinsing is a sub-workflow that might be used in several\n",
    "different workflows (perhaps a cleaning workflow that doesn't involve soap). Then we can separate out this part of the\n",
    "overall workflow like this:"
   ]
  },
  {
   "cell_type": "code",
   "execution_count": 10,
   "metadata": {
    "collapsed": true,
    "deletable": true,
    "editable": true
   },
   "outputs": [],
   "source": [
    "class RinseWorkflow(object):\n",
    "\n",
    "    is_workflow = True\n",
    "\n",
    "    def __init__(self, washable):\n",
    "        self.washable = washable\n",
    "\n",
    "    @default_cost(1)\n",
    "    def rinse(self):\n",
    "        self.washable.soaped = False\n",
    "\n",
    "\n",
    "class WashWorkflow(object):\n",
    "\n",
    "    is_workflow = True\n",
    "\n",
    "    def __init__(self, washable):\n",
    "        self.washable = washable\n",
    "        self.rinse = RinseWorkflow(washable)\n",
    "\n",
    "    @default_cost(1)\n",
    "    def add_soap(self):\n",
    "        self.washable.soaped = True\n",
    "\n",
    "    @default_cost(1)\n",
    "    def scrub(self):\n",
    "        if self.washable.soaped:\n",
    "            self.washable.clean = True\n",
    "\n",
    "    @default_cost(1)\n",
    "    def wash(self):\n",
    "       self.add_soap()\n",
    "       self.scrub()\n",
    "       self.rinse.rinse()"
   ]
  },
  {
   "cell_type": "markdown",
   "metadata": {
    "deletable": true,
    "editable": true
   },
   "source": [
    "## Playing an Episode and Gathering Results\n",
    "\n",
    "Putting all this together, we can now define an episode of the problem domain and execute it as follows."
   ]
  },
  {
   "cell_type": "code",
   "execution_count": 11,
   "metadata": {
    "collapsed": true,
    "deletable": true,
    "editable": true
   },
   "outputs": [],
   "source": [
    "direction = WashHandsDirection()\n",
    "episode = Episode(clock, cast, direction)\n",
    "episode.perform()"
   ]
  },
  {
   "cell_type": "markdown",
   "metadata": {
    "deletable": true,
    "editable": true
   },
   "source": [
    "Data for analysis can be collected from the problem domain, since these are just plain old Python objects.  For example:"
   ]
  },
  {
   "cell_type": "code",
   "execution_count": 12,
   "metadata": {
    "collapsed": false,
    "deletable": true,
    "editable": true
   },
   "outputs": [
    {
     "name": "stdout",
     "output_type": "stream",
     "text": [
      "True\n"
     ]
    }
   ],
   "source": [
    "print hands.clean"
   ]
  },
  {
   "cell_type": "markdown",
   "metadata": {
    "deletable": true,
    "editable": true
   },
   "source": [
    "It is also possible to gather executed task history information from an Actor.  This information is stored in a\n",
    "hierarchical tree of executed tasks.  Each task maintains a reference to its parent and child sub-tasks, if any.\n",
    "Task objects also store the workflow, entry point, start and end times.  In the example episode above, the actor will\n",
    "have exactly two wash tasks in its history."
   ]
  },
  {
   "cell_type": "code",
   "execution_count": 13,
   "metadata": {
    "collapsed": false,
    "deletable": true,
    "editable": true
   },
   "outputs": [
    {
     "name": "stdout",
     "output_type": "stream",
     "text": [
      "[wash()[0->3], wash()[3->?]]\n"
     ]
    }
   ],
   "source": [
    "print actor.task_history"
   ]
  },
  {
   "cell_type": "markdown",
   "metadata": {
    "deletable": true,
    "editable": true
   },
   "source": [
    "The first wash task will have one add_soap rinse sub-task, one scrub task, each of which consumed one clock tick."
   ]
  },
  {
   "cell_type": "code",
   "execution_count": 14,
   "metadata": {
    "collapsed": false,
    "deletable": true,
    "editable": true
   },
   "outputs": [
    {
     "name": "stdout",
     "output_type": "stream",
     "text": [
      "[add_soap()[0->1], scrub()[1->2], rinse()[2->3]]\n"
     ]
    }
   ],
   "source": [
    "print actor.task_history[0].sub_tasks"
   ]
  },
  {
   "cell_type": "markdown",
   "metadata": {
    "deletable": true,
    "editable": true
   },
   "source": [
    "The second sub-task will terminate after the scrub sub-task, as the clock reaches it's maximum tick:"
   ]
  },
  {
   "cell_type": "code",
   "execution_count": 15,
   "metadata": {
    "collapsed": false,
    "deletable": true,
    "editable": true
   },
   "outputs": [
    {
     "name": "stdout",
     "output_type": "stream",
     "text": [
      "[add_soap()[4->5], scrub()[5->5]]\n"
     ]
    }
   ],
   "source": [
    "print actor.task_history[1].sub_tasks"
   ]
  }
 ],
 "metadata": {
  "kernelspec": {
   "display_name": "Python 2",
   "language": "python",
   "name": "python2"
  },
  "language_info": {
   "codemirror_mode": {
    "name": "ipython",
    "version": 2.0
   },
   "file_extension": ".py",
   "mimetype": "text/x-python",
   "name": "python",
   "nbconvert_exporter": "python",
   "pygments_lexer": "ipython2",
   "version": "2.7.8"
  }
 },
 "nbformat": 4,
 "nbformat_minor": 0
}