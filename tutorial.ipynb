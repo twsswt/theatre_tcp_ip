{
 "cells": [
  {
   "cell_type": "markdown",
   "metadata": {},
   "source": [
    "# Tutorial\n",
    "\n",
    "An example of using Theatre_Ag to model the establishment of stateful TCP connections over an IP network."
   ]
  },
  {
   "cell_type": "code",
   "execution_count": null,
   "metadata": {
    "collapsed": false
   },
   "outputs": [],
   "source": [
    "!pip install git+https://github.com/twsswt/theatre_ag"
   ]
  },
  {
   "cell_type": "markdown",
   "metadata": {
    "collapsed": true,
    "deletable": true,
    "editable": true
   },
   "source": [
    "First, we define a Directions class to allocate tasks to the actors performing as the TCP client and server:"
   ]
  },
  {
   "cell_type": "code",
   "execution_count": null,
   "metadata": {
    "collapsed": false,
    "deletable": true,
    "editable": true
   },
   "outputs": [],
   "source": [
    "from theatre_tcp_ip import TCPClient, TCPServer\n",
    "from theatre_tcp_ip import Network\n",
    "\n",
    "class TCPDirections(object):\n",
    "    \"\"\"\n",
    "    The setup script for running a simulation of TCP behaviour within this test.\n",
    "    \"\"\"\n",
    "\n",
    "    def __init__(self, network, tcp_server_address):\n",
    "        self.network = network\n",
    "        self.tcp_server_address = tcp_server_address\n",
    "\n",
    "    def apply(self, cast):\n",
    "\n",
    "        tcp_server = filter(lambda m: m.logical_name is self.tcp_server_address, cast)[0]\n",
    "        server_nix = self.network.create_network_endpoint(self.tcp_server_address)\n",
    "        tcp_server_workflow = TCPServer(server_nix)\n",
    "        tcp_server.allocate_task(tcp_server_workflow.wait_for_syns)\n",
    "\n",
    "        tcp_clients = filter(lambda m: m.logical_name is not self.tcp_server_address, cast)\n",
    "\n",
    "        for tcp_client in tcp_clients:\n",
    "            client_nix = self.network.create_network_endpoint(tcp_client.logical_name)\n",
    "            tcp_client_workflow = TCPClient(client_nix, self.tcp_server_address)\n",
    "            tcp_client.allocate_task(tcp_client_workflow.send_syn)\n"
   ]
  },
  {
   "cell_type": "markdown",
   "metadata": {
    "deletable": true,
    "editable": true
   },
   "source": [
    "Next, we define the simulation clock with a maximum tick:"
   ]
  },
  {
   "cell_type": "code",
   "execution_count": null,
   "metadata": {
    "collapsed": false,
    "deletable": true,
    "editable": true
   },
   "outputs": [],
   "source": [
    "from theatre_ag import SynchronizingClock\n",
    "clock = SynchronizingClock(3)"
   ]
  },
  {
   "cell_type": "markdown",
   "metadata": {
    "deletable": true,
    "editable": true
   },
   "source": [
    "Define the cast:"
   ]
  },
  {
   "cell_type": "code",
   "execution_count": null,
   "metadata": {
    "collapsed": false,
    "deletable": true,
    "editable": true
   },
   "outputs": [],
   "source": [
    "from theatre_ag import TaskQueueActor, Cast\n",
    "\n",
    "tcp_client = TaskQueueActor('tcp_client', clock)\n",
    "tcp_server = TaskQueueActor('tcp_server', clock)\n",
    "cast = Cast({tcp_client, tcp_server})"
   ]
  },
  {
   "cell_type": "markdown",
   "metadata": {
    "collapsed": true,
    "deletable": true,
    "editable": true
   },
   "source": [
    "Define the scene the cast will operate on (the IP network)"
   ]
  },
  {
   "cell_type": "code",
   "execution_count": null,
   "metadata": {
    "collapsed": true,
    "deletable": true,
    "editable": true
   },
   "outputs": [],
   "source": [
    "network = Network()"
   ]
  },
  {
   "cell_type": "markdown",
   "metadata": {
    "deletable": true,
    "editable": true
   },
   "source": [
    "Finally we use the directions and an episode to link the scene and cast together and perform the simulation:"
   ]
  },
  {
   "cell_type": "code",
   "execution_count": null,
   "metadata": {
    "collapsed": false,
    "deletable": true,
    "editable": true
   },
   "outputs": [],
   "source": [
    "from theatre_ag import Episode\n",
    "\n",
    "directions = TCPDirections(network, 'tcp_server')\n",
    "\n",
    "episode = Episode(clock, cast, directions)\n",
    "\n",
    "episode.perform()"
   ]
  },
  {
   "cell_type": "markdown",
   "metadata": {
    "deletable": true,
    "editable": true
   },
   "source": [
    "It is possible to query the state of the simulation, include the task history of the actors:"
   ]
  },
  {
   "cell_type": "code",
   "execution_count": null,
   "metadata": {
    "collapsed": false,
    "deletable": true,
    "editable": true
   },
   "outputs": [],
   "source": [
    "from theatre_ag import format_task_trees\n",
    "\n",
    "print format_task_trees(tcp_client.task_history)\n",
    "print format_task_trees(tcp_server.task_history)"
   ]
  }
 ],
 "metadata": {
  "kernelspec": {
   "display_name": "Python 2",
   "language": "python",
   "name": "python2"
  },
  "language_info": {
   "codemirror_mode": {
    "name": "ipython",
    "version": 2
   },
   "file_extension": ".py",
   "mimetype": "text/x-python",
   "name": "python",
   "nbconvert_exporter": "python",
   "pygments_lexer": "ipython2",
   "version": "2.7.13"
  }
 },
 "nbformat": 4,
 "nbformat_minor": 0
}
